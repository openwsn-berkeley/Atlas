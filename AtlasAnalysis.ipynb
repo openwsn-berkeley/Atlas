{
 "cells": [
  {
   "cell_type": "code",
   "execution_count": 3,
   "metadata": {},
   "outputs": [
    {
     "name": "stdout",
     "output_type": "stream",
     "text": [
      "8 logs\n"
     ]
    }
   ],
   "source": [
    "##################################### HELPER FUNCTIONS AND CONFIGURATIONS #########################################\n",
    "import seaborn as sns # for data visualization\n",
    "from matplotlib.collections import PathCollection\n",
    "import os\n",
    "import pprint\n",
    "import random\n",
    "import statistics\n",
    "import scipy.stats\n",
    "import numpy as np\n",
    "import math\n",
    "import matplotlib\n",
    "import matplotlib.pyplot as plt\n",
    "plt.rcParams['pdf.fonttype'] = 42\n",
    "plt.rcParams['ps.fonttype'] = 42\n",
    "plt.rcParams['figure.figsize'] = [15, 10]\n",
    "import json\n",
    "import pandas as pd\n",
    "import glob\n",
    "import math\n",
    "import ast\n",
    "%matplotlib inline\n",
    "\n",
    "pp       =  pprint.PrettyPrinter(compact=True)\n",
    "\n",
    "LOGFILES =  glob.glob('logs/infrastructure_test_data/*.json' )\n",
    "\n",
    "print(len(LOGFILES),\"logs\")\n",
    "\n",
    "#=== line colors and styles\n",
    "\n",
    "linestyles = {\n",
    "    #=======scenarios========\n",
    "    'empty'      :   'dotted',\n",
    "    'canonical'  :   'dashed',\n",
    "    'floorplan'  :  'dashdot',\n",
    "    #=======algorithms=======\n",
    "    #------exploration------- \n",
    "    'Atlas'      :    'solid',\n",
    "    #----relay placement-----\n",
    "    'Recovery'   :    'dotted',\n",
    "    'SelfHealing':    'dashed',\n",
    "    'Naive'      :    'dashdot',\n",
    "}\n",
    "\n",
    "linecolors = {\n",
    "    #=======scenarios==========\n",
    "    'empty'      :      'green',\n",
    "    'canonical'  :       'blue',\n",
    "    'floorplan'  :        'red',\n",
    "    #=======algorithms=========\n",
    "    #------exploration---------\n",
    "    'Atlas'      :  'royalblue',\n",
    "    #------relay placement-----\n",
    "    'Recovery'   :     'purple',\n",
    "    'SelfHealing':      'green',\n",
    "    'Naive'      :     'orange',\n",
    "     \n",
    "   }\n",
    "\n",
    "#=== helper functions\n",
    "\n",
    "def mean_confidence_interval(data, confidence=0.95):\n",
    "    a = 1.0 * np.array(data)\n",
    "    n = len(a)\n",
    "    m, se = np.mean(a), scipy.stats.sem(a)\n",
    "    h = se * scipy.stats.t.ppf((1 + confidence) / 2., n-1)\n",
    "    return (m, h)"
   ]
  },
  {
   "cell_type": "code",
   "execution_count": 27,
   "metadata": {},
   "outputs": [
    {
     "data": {
      "text/plain": [
       "Text(0, 0.5, 'Time to Completion')"
      ]
     },
     "execution_count": 27,
     "metadata": {},
     "output_type": "execute_result"
    },
    {
     "data": {
      "image/png": "[encoded data removed]",
      "text/plain": [
       "<Figure size 432x288 with 1 Axes>"
      ]
     },
     "metadata": {
      "needs_background": "light"
     },
     "output_type": "display_data"
    }
   ],
   "source": [
    "\n",
    "#============ Time To Completion\n",
    "\n",
    "# data = {seed: {config: {....}}, timeToCompletion: 2142}, another seed: {...} }\n",
    "data      =  []\n",
    "for file in LOGFILES:\n",
    "  FILENAME = file\n",
    "  # gather\n",
    "  with open(FILENAME,'r') as f:\n",
    "    lines  = [json.loads(l) for l in f]\n",
    "    for line in lines:\n",
    "        if line[\"type\"] == \"simSetting\":\n",
    "            numRobots             = line['simSetting']['numRobots'] \n",
    "            floorplan             = line['simSetting']['floorplan'] \n",
    "        \n",
    "        if line[\"type\"] == \"KPI\":\n",
    "            timeToCompletion      = line['timeToCompletion']\n",
    "            break\n",
    " \n",
    "    data += [{\"numRobots\": numRobots, \"floorplan\": floorplan, \"timeToComletion\": timeToCompletion}]\n",
    "\n",
    "numRobots = list(set([d['numRobots'] for d in data]))\n",
    "\n",
    "toPlot = {}\n",
    "for value in numRobots:\n",
    "    toPlot[value] = {}\n",
    "    (m, h) = mean_confidence_interval([d[\"timeToComletion\"] for d in data if d['numRobots']==value])\n",
    "    toPlot[value][\"mean\"] = m\n",
    "    toPlot[value][\"yerr\"] = h\n",
    "\n",
    "plt.errorbar(x=numRobots, y=[p[\"mean\"] for p in toPlot.values()], yerr=[p[\"yerr\"] for p in toPlot.values()],\n",
    "            ecolor='red')\n",
    "\n",
    "plt.xlabel(\"Number of Robots\")\n",
    "plt.ylabel(\"Time to Completion\")\n",
    "\n"
   ]
  },
  {
   "cell_type": "code",
   "execution_count": null,
   "metadata": {},
   "outputs": [],
   "source": [
    "#============ Plot Time To Completion vs number of robots per Floorplan"
   ]
  }
 ],
 "metadata": {
  "kernelspec": {
   "display_name": "Python 3",
   "language": "python",
   "name": "python3"
  },
  "language_info": {
   "codemirror_mode": {
    "name": "ipython",
    "version": 3
   },
   "file_extension": ".py",
   "mimetype": "text/x-python",
   "name": "python",
   "nbconvert_exporter": "python",
   "pygments_lexer": "ipython3",
   "version": "3.8.2"
  }
 },
 "nbformat": 4,
 "nbformat_minor": 4
}
