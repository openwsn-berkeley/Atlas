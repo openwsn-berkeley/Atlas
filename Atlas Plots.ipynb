{
 "cells": [
  {
   "cell_type": "code",
   "execution_count": 111,
   "metadata": {},
   "outputs": [
    {
     "name": "stdout",
     "output_type": "stream",
     "text": [
      "['Atlas_kpi_Log_210310112309.json']\n"
     ]
    }
   ],
   "source": [
    "import seaborn as sns # for data visualization\n",
    "import os\n",
    "import pprint\n",
    "import random\n",
    "import statistics\n",
    "import scipy.stats\n",
    "import numpy as np\n",
    "import matplotlib\n",
    "import matplotlib.pyplot as plt\n",
    "import json\n",
    "import glob\n",
    "%matplotlib inline\n",
    "\n",
    "pp       =  pprint.PrettyPrinter(compact=True)\n",
    "\n",
    "LOGFILES =  glob.glob('Atlas_kpi_Log_*.json')\n",
    "\n",
    "print(LOGFILES)\n",
    "\n",
    "#=== line colors and styles\n",
    "\n",
    "linestyles = {\n",
    "    # scenarios\n",
    "    'empty':        'dotted',\n",
    "    'canonical':    'dashed',\n",
    "    'floorplan':    'solid',\n",
    "}\n",
    "\n",
    "linecolors = {\n",
    "    # scenarios\n",
    "    'empty':        '#262626',\n",
    "    'canonical':    '#666666',\n",
    "    'floorplan':    '#ff0000',\n",
    "}\n",
    "\n",
    "#=== helper functions\n",
    "\n",
    "def mean_confidence_interval(data, confidence=0.95):\n",
    "    a = 1.0 * np.array(data)\n",
    "    n = len(a)\n",
    "    m, se = np.mean(a), scipy.stats.sem(a)\n",
    "    h = se * scipy.stats.t.ppf((1 + confidence) / 2., n-1)\n",
    "    return (m, h)"
   ]
  },
  {
   "cell_type": "code",
   "execution_count": 112,
   "metadata": {},
   "outputs": [
    {
     "name": "stdout",
     "output_type": "stream",
     "text": [
      "runNums: 11 TotalRuns: 11\n"
     ]
    }
   ],
   "source": [
    "\n",
    "#=== gather data\n",
    "\n",
    "log = []\n",
    "for logfile in LOGFILES:\n",
    "    with open(logfile,'r') as f:\n",
    "        for line in f:\n",
    "            log += [json.loads(line)]\n",
    "            \n",
    "lastRunNum = None\n",
    "runNums    = 0\n",
    "for run in log:\n",
    "    if run['runNums']!= lastRunNum:\n",
    "        runNums      += 1\n",
    "        lastRunNum    = run['runNums']\n",
    "            \n",
    "print('runNums: {} TotalRuns: {}'.format(runNums,len(log)))"
   ]
  },
  {
   "cell_type": "code",
   "execution_count": 113,
   "metadata": {},
   "outputs": [
    {
     "ename": "TypeError",
     "evalue": "float() argument must be a string or a number, not 'list'",
     "output_type": "error",
     "traceback": [
      "\u001b[1;31m---------------------------------------------------------------------------\u001b[0m",
      "\u001b[1;31mAttributeError\u001b[0m                            Traceback (most recent call last)",
      "\u001b[1;32mc:\\users\\abuaishe\\appdata\\local\\programs\\python\\python38-32\\lib\\site-packages\\matplotlib\\colors.py\u001b[0m in \u001b[0;36m_sanitize_extrema\u001b[1;34m(ex)\u001b[0m\n\u001b[0;32m    116\u001b[0m     \u001b[1;32mtry\u001b[0m\u001b[1;33m:\u001b[0m\u001b[1;33m\u001b[0m\u001b[1;33m\u001b[0m\u001b[0m\n\u001b[1;32m--> 117\u001b[1;33m         \u001b[0mret\u001b[0m \u001b[1;33m=\u001b[0m \u001b[0mex\u001b[0m\u001b[1;33m.\u001b[0m\u001b[0mitem\u001b[0m\u001b[1;33m(\u001b[0m\u001b[1;33m)\u001b[0m\u001b[1;33m\u001b[0m\u001b[1;33m\u001b[0m\u001b[0m\n\u001b[0m\u001b[0;32m    118\u001b[0m     \u001b[1;32mexcept\u001b[0m \u001b[0mAttributeError\u001b[0m\u001b[1;33m:\u001b[0m\u001b[1;33m\u001b[0m\u001b[1;33m\u001b[0m\u001b[0m\n",
      "\u001b[1;31mAttributeError\u001b[0m: 'list' object has no attribute 'item'",
      "\nDuring handling of the above exception, another exception occurred:\n",
      "\u001b[1;31mTypeError\u001b[0m                                 Traceback (most recent call last)",
      "\u001b[1;32m<ipython-input-113-71ab90673ef5>\u001b[0m in \u001b[0;36m<module>\u001b[1;34m\u001b[0m\n\u001b[0;32m     36\u001b[0m     \u001b[0mmaxNumRobots\u001b[0m\u001b[1;33m[\u001b[0m\u001b[1;33m(\u001b[0m\u001b[0mscenarioName\u001b[0m\u001b[1;33m,\u001b[0m\u001b[0mnavAlg\u001b[0m\u001b[1;33m)\u001b[0m\u001b[1;33m]\u001b[0m \u001b[1;33m=\u001b[0m \u001b[0mvmax\u001b[0m\u001b[1;33m\u001b[0m\u001b[1;33m\u001b[0m\u001b[0m\n\u001b[0;32m     37\u001b[0m     \u001b[0mcmap\u001b[0m         \u001b[1;33m=\u001b[0m \u001b[0mplt\u001b[0m\u001b[1;33m.\u001b[0m\u001b[0mcm\u001b[0m\u001b[1;33m.\u001b[0m\u001b[0mGreys\u001b[0m\u001b[1;33m\u001b[0m\u001b[1;33m\u001b[0m\u001b[0m\n\u001b[1;32m---> 38\u001b[1;33m     \u001b[0mnorm\u001b[0m         \u001b[1;33m=\u001b[0m \u001b[0mplt\u001b[0m\u001b[1;33m.\u001b[0m\u001b[0mNormalize\u001b[0m\u001b[1;33m(\u001b[0m\u001b[1;36m0\u001b[0m\u001b[1;33m,\u001b[0m \u001b[0mvmax\u001b[0m\u001b[1;33m)\u001b[0m\u001b[1;33m\u001b[0m\u001b[1;33m\u001b[0m\u001b[0m\n\u001b[0m\u001b[0;32m     39\u001b[0m     \u001b[0mrgba\u001b[0m         \u001b[1;33m=\u001b[0m \u001b[0mcmap\u001b[0m\u001b[1;33m(\u001b[0m\u001b[0mnorm\u001b[0m\u001b[1;33m(\u001b[0m\u001b[0mdata\u001b[0m\u001b[1;33m)\u001b[0m\u001b[1;33m)\u001b[0m\u001b[1;33m\u001b[0m\u001b[1;33m\u001b[0m\u001b[0m\n\u001b[0;32m     40\u001b[0m \u001b[1;33m\u001b[0m\u001b[0m\n",
      "\u001b[1;32mc:\\users\\abuaishe\\appdata\\local\\programs\\python\\python38-32\\lib\\site-packages\\matplotlib\\colors.py\u001b[0m in \u001b[0;36m__init__\u001b[1;34m(self, vmin, vmax, clip)\u001b[0m\n\u001b[0;32m    961\u001b[0m         \"\"\"\n\u001b[0;32m    962\u001b[0m         \u001b[0mself\u001b[0m\u001b[1;33m.\u001b[0m\u001b[0mvmin\u001b[0m \u001b[1;33m=\u001b[0m \u001b[0m_sanitize_extrema\u001b[0m\u001b[1;33m(\u001b[0m\u001b[0mvmin\u001b[0m\u001b[1;33m)\u001b[0m\u001b[1;33m\u001b[0m\u001b[1;33m\u001b[0m\u001b[0m\n\u001b[1;32m--> 963\u001b[1;33m         \u001b[0mself\u001b[0m\u001b[1;33m.\u001b[0m\u001b[0mvmax\u001b[0m \u001b[1;33m=\u001b[0m \u001b[0m_sanitize_extrema\u001b[0m\u001b[1;33m(\u001b[0m\u001b[0mvmax\u001b[0m\u001b[1;33m)\u001b[0m\u001b[1;33m\u001b[0m\u001b[1;33m\u001b[0m\u001b[0m\n\u001b[0m\u001b[0;32m    964\u001b[0m         \u001b[0mself\u001b[0m\u001b[1;33m.\u001b[0m\u001b[0mclip\u001b[0m \u001b[1;33m=\u001b[0m \u001b[0mclip\u001b[0m\u001b[1;33m\u001b[0m\u001b[1;33m\u001b[0m\u001b[0m\n\u001b[0;32m    965\u001b[0m \u001b[1;33m\u001b[0m\u001b[0m\n",
      "\u001b[1;32mc:\\users\\abuaishe\\appdata\\local\\programs\\python\\python38-32\\lib\\site-packages\\matplotlib\\colors.py\u001b[0m in \u001b[0;36m_sanitize_extrema\u001b[1;34m(ex)\u001b[0m\n\u001b[0;32m    117\u001b[0m         \u001b[0mret\u001b[0m \u001b[1;33m=\u001b[0m \u001b[0mex\u001b[0m\u001b[1;33m.\u001b[0m\u001b[0mitem\u001b[0m\u001b[1;33m(\u001b[0m\u001b[1;33m)\u001b[0m\u001b[1;33m\u001b[0m\u001b[1;33m\u001b[0m\u001b[0m\n\u001b[0;32m    118\u001b[0m     \u001b[1;32mexcept\u001b[0m \u001b[0mAttributeError\u001b[0m\u001b[1;33m:\u001b[0m\u001b[1;33m\u001b[0m\u001b[1;33m\u001b[0m\u001b[0m\n\u001b[1;32m--> 119\u001b[1;33m         \u001b[0mret\u001b[0m \u001b[1;33m=\u001b[0m \u001b[0mfloat\u001b[0m\u001b[1;33m(\u001b[0m\u001b[0mex\u001b[0m\u001b[1;33m)\u001b[0m\u001b[1;33m\u001b[0m\u001b[1;33m\u001b[0m\u001b[0m\n\u001b[0m\u001b[0;32m    120\u001b[0m     \u001b[1;32mreturn\u001b[0m \u001b[0mret\u001b[0m\u001b[1;33m\u001b[0m\u001b[1;33m\u001b[0m\u001b[0m\n\u001b[0;32m    121\u001b[0m \u001b[1;33m\u001b[0m\u001b[0m\n",
      "\u001b[1;31mTypeError\u001b[0m: float() argument must be a string or a number, not 'list'"
     ]
    }
   ],
   "source": [
    "'''\n",
    "###############################################################################\n",
    "Heatmap\n",
    "###############################################################################\n",
    "'''\n",
    "\n",
    "#=== create plot\n",
    "\n",
    "maxNumRobots = {}\n",
    "\n",
    "plotsgenerated = []\n",
    "for run in log:\n",
    "\n",
    "    # shorthands\n",
    "    if run['floorplanType'] == 0:\n",
    "        scenarioName = 'empty'\n",
    "    elif run['floorplanType'] == 1:\n",
    "        scenarioName = 'canonical'\n",
    "    elif run['floorplanType'] == 2:\n",
    "        scenarioName = 'floorplan'\n",
    "      \n",
    "    navAlg = run['navAlgorithm']\n",
    "    \n",
    "    # don't plot same data twice\n",
    "    if (\n",
    "        ((scenarioName,navAlg) in plotsgenerated) or\n",
    "        ('heatmap' not in run)\n",
    "    ):\n",
    "        continue\n",
    "    \n",
    "    # color cells visited\n",
    "    data         = np.array(run['heatmap'])\n",
    "    flat         = data.flatten()\n",
    "    flat.sort()\n",
    "    vmax         = flat[-2] # avoid counting num robots on start position\n",
    "    maxNumRobots[(scenarioName,navAlg)] = vmax\n",
    "    cmap         = plt.cm.Greys\n",
    "    norm         = plt.Normalize(0, vmax)\n",
    "    rgba         = cmap(norm(data))\n",
    "    \n",
    "    print(scenarioName,navAlg,vmax)\n",
    "    \n",
    "    # color real map\n",
    "    realMap      = run['floorplanDrawing']\n",
    "    x = 0\n",
    "    for line in realMap.splitlines():\n",
    "        if not line.startswith('#'):\n",
    "            continue\n",
    "        for (y,c) in enumerate(line):\n",
    "            if   c=='#':\n",
    "                rgba[x, y, :3] = ( 0/255,  51/255, 204/255)\n",
    "        x += 1\n",
    "    \n",
    "    (fig,ax) = plt.subplots()\n",
    "    im       = ax.imshow(rgba, interpolation='nearest')\n",
    "\n",
    "    fig.tight_layout(pad=0, h_pad=0, w_pad=0)\n",
    "    plt.axis('off')\n",
    "#     fig.savefig(\n",
    "#         os.path.join(\n",
    "#             'plots',\n",
    "#             'heatmap_{0}_{1}.eps'.format(\n",
    "#                 scenarioName,\n",
    "#                 navAlg,\n",
    "#             ),\n",
    "#         ),\n",
    "#         bbox_inches='tight',\n",
    "#     )\n",
    "    plt.show()\n",
    "    \n",
    "    # remember what I have plotted\n",
    "    plotsgenerated += [(scenarioName,navAlg)]\n",
    "\n",
    "for ((scenarioName,navAlg),num) in maxNumRobots.items():\n",
    "    print('\\\\newcommand{{\\\\heatmapMaxNumRobots{}{}}}         {{{}\\\\xspace}}'.format(scenarioName,navAlg,num))\n"
   ]
  },
  {
   "cell_type": "code",
   "execution_count": null,
   "metadata": {},
   "outputs": [],
   "source": [
    "\n"
   ]
  }
 ],
 "metadata": {
  "kernelspec": {
   "display_name": "Python 3",
   "language": "python",
   "name": "python3"
  },
  "language_info": {
   "codemirror_mode": {
    "name": "ipython",
    "version": 3
   },
   "file_extension": ".py",
   "mimetype": "text/x-python",
   "name": "python",
   "nbconvert_exporter": "python",
   "pygments_lexer": "ipython3",
   "version": "3.8.2"
  }
 },
 "nbformat": 4,
 "nbformat_minor": 4
}
