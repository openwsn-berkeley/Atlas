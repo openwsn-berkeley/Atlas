{
 "cells": [
  {
   "cell_type": "code",
   "execution_count": 64,
   "metadata": {},
   "outputs": [
    {
     "name": "stdout",
     "output_type": "stream",
     "text": [
      "['Atlas_kpi_Log_210310090826.json']\n"
     ]
    }
   ],
   "source": [
    "import seaborn as sns # for data visualization\n",
    "import os\n",
    "import pprint\n",
    "import random\n",
    "import statistics\n",
    "import scipy.stats\n",
    "import numpy as np\n",
    "import matplotlib\n",
    "import matplotlib.pyplot as plt\n",
    "import json\n",
    "import glob\n",
    "%matplotlib inline\n",
    "\n",
    "pp       =  pprint.PrettyPrinter(compact=True)\n",
    "\n",
    "LOGFILES =  glob.glob('Atlas_kpi_Log_*.json')\n",
    "\n",
    "print(LOGFILES)\n",
    "\n",
    "#=== line colors and styles\n",
    "\n",
    "linestyles = {\n",
    "    # scenarios\n",
    "    'empty':        'dotted',\n",
    "    'canonical':    'dashed',\n",
    "    'floorplan':    'solid',\n",
    "}\n",
    "\n",
    "linecolors = {\n",
    "    # scenarios\n",
    "    'empty':        '#262626',\n",
    "    'canonical':    '#666666',\n",
    "    'floorplan':    '#ff0000',\n",
    "}\n",
    "\n",
    "#=== helper functions\n",
    "\n",
    "def mean_confidence_interval(data, confidence=0.95):\n",
    "    a = 1.0 * np.array(data)\n",
    "    n = len(a)\n",
    "    m, se = np.mean(a), scipy.stats.sem(a)\n",
    "    h = se * scipy.stats.t.ppf((1 + confidence) / 2., n-1)\n",
    "    return (m, h)"
   ]
  },
  {
   "cell_type": "code",
   "execution_count": 65,
   "metadata": {},
   "outputs": [
    {
     "name": "stdout",
     "output_type": "stream",
     "text": [
      "runNums: 3 TotalRuns: 3\n"
     ]
    }
   ],
   "source": [
    "\n",
    "#=== gather data\n",
    "\n",
    "log = []\n",
    "for logfile in LOGFILES:\n",
    "    with open(logfile,'r') as f:\n",
    "        for line in f:\n",
    "            log += [json.loads(line)]\n",
    "            \n",
    "lastRunNum = None\n",
    "runNums    = 0\n",
    "for run in log:\n",
    "    if run['runNums']!= lastRunNum:\n",
    "        runNums      += 1\n",
    "        lastRunNum    = run['runNums']\n",
    "            \n",
    "print('runNums: {} TotalRuns: {}'.format(runNums,len(log)))"
   ]
  },
  {
   "cell_type": "code",
   "execution_count": 70,
   "metadata": {},
   "outputs": [
    {
     "name": "stdout",
     "output_type": "stream",
     "text": [
      "[[[0.77433295 0.77433295 0.77433295 1.        ]\n",
      "  [0.94082276 0.94082276 0.94082276 1.        ]\n",
      "  [0.19561707 0.19561707 0.19561707 1.        ]\n",
      "  ...\n",
      "  [0.77433295 0.77433295 0.77433295 1.        ]\n",
      "  [0.94082276 0.94082276 0.94082276 1.        ]\n",
      "  [0.97785467 0.97785467 0.97785467 1.        ]]\n",
      "\n",
      " [[0.77433295 0.77433295 0.77433295 1.        ]\n",
      "  [0.94082276 0.94082276 0.94082276 1.        ]\n",
      "  [0.19561707 0.19561707 0.19561707 1.        ]\n",
      "  ...\n",
      "  [0.77433295 0.77433295 0.77433295 1.        ]\n",
      "  [0.94082276 0.94082276 0.94082276 1.        ]\n",
      "  [0.97785467 0.97785467 0.97785467 1.        ]]\n",
      "\n",
      " [[0.77433295 0.77433295 0.77433295 1.        ]\n",
      "  [0.94082276 0.94082276 0.94082276 1.        ]\n",
      "  [0.19561707 0.19561707 0.19561707 1.        ]\n",
      "  ...\n",
      "  [0.77433295 0.77433295 0.77433295 1.        ]\n",
      "  [0.94082276 0.94082276 0.94082276 1.        ]\n",
      "  [0.97785467 0.97785467 0.97785467 1.        ]]\n",
      "\n",
      " ...\n",
      "\n",
      " [[0.77433295 0.77433295 0.77433295 1.        ]\n",
      "  [0.94082276 0.94082276 0.94082276 1.        ]\n",
      "  [0.19561707 0.19561707 0.19561707 1.        ]\n",
      "  ...\n",
      "  [0.77433295 0.77433295 0.77433295 1.        ]\n",
      "  [0.94082276 0.94082276 0.94082276 1.        ]\n",
      "  [0.97785467 0.97785467 0.97785467 1.        ]]\n",
      "\n",
      " [[0.77433295 0.77433295 0.77433295 1.        ]\n",
      "  [0.94082276 0.94082276 0.94082276 1.        ]\n",
      "  [0.19561707 0.19561707 0.19561707 1.        ]\n",
      "  ...\n",
      "  [0.77433295 0.77433295 0.77433295 1.        ]\n",
      "  [0.94082276 0.94082276 0.94082276 1.        ]\n",
      "  [0.97785467 0.97785467 0.97785467 1.        ]]\n",
      "\n",
      " [[0.77433295 0.77433295 0.77433295 1.        ]\n",
      "  [0.94082276 0.94082276 0.94082276 1.        ]\n",
      "  [0.19561707 0.19561707 0.19561707 1.        ]\n",
      "  ...\n",
      "  [0.77433295 0.77433295 0.77433295 1.        ]\n",
      "  [0.94082276 0.94082276 0.94082276 1.        ]\n",
      "  [0.97785467 0.97785467 0.97785467 1.        ]]]\n",
      "empty Atlas 80\n"
     ]
    },
    {
     "data": {
      "image/png": "[encoded data removed]",
      "text/plain": [
       "<Figure size 432x288 with 1 Axes>"
      ]
     },
     "metadata": {
      "needs_background": "light"
     },
     "output_type": "display_data"
    },
    {
     "name": "stdout",
     "output_type": "stream",
     "text": [
      "\\newcommand{\\heatmapMaxNumRobotsemptyAtlas}         {80\\xspace}\n"
     ]
    }
   ],
   "source": [
    "'''\n",
    "###############################################################################\n",
    "Heatmap\n",
    "###############################################################################\n",
    "'''\n",
    "\n",
    "#=== create plot\n",
    "\n",
    "maxNumRobots = {}\n",
    "\n",
    "plotsgenerated = []\n",
    "for run in log:\n",
    "\n",
    "    # shorthands\n",
    "    if run['floorplanType'] == 0:\n",
    "        scenarioName = 'empty'\n",
    "    elif run['floorplanType'] == 1:\n",
    "        scenarioName = 'canonical'\n",
    "    elif run['floorplanType'] == 2:\n",
    "        scenarioName = 'floorplan'\n",
    "      \n",
    "    navAlg = run['navAlgorithm']\n",
    "    \n",
    "    # don't plot same data twice\n",
    "    if (\n",
    "        ((scenarioName,navAlg) in plotsgenerated) or\n",
    "        ('heatmap' not in run)\n",
    "    ):\n",
    "        continue\n",
    "    \n",
    "    # color cells visited\n",
    "    data         = np.array(run['heatmap'])\n",
    "    flat         = data.flatten()\n",
    "    flat.sort()\n",
    "    vmax         = flat[-2] # avoid counting num robots on start position\n",
    "    maxNumRobots[(scenarioName,navAlg)] = vmax\n",
    "    cmap         = plt.cm.Greys\n",
    "    norm         = plt.Normalize(0, vmax)\n",
    "    rgba         = cmap(norm(data))\n",
    "    \n",
    "    print(scenarioName,navAlg,vmax)\n",
    "    \n",
    "    # color real map\n",
    "    realMap      = run['floorplanDrawing']\n",
    "    x = 0\n",
    "    for line in realMap.splitlines():\n",
    "        if not line.startswith('#'):\n",
    "            continue\n",
    "        for (y,c) in enumerate(line):\n",
    "            if   c=='#':\n",
    "                rgba[x, y, :3] = ( 0/255,  51/255, 204/255)\n",
    "        x += 1\n",
    "    \n",
    "    (fig,ax) = plt.subplots()\n",
    "    im       = ax.imshow(rgba, interpolation='nearest')\n",
    "\n",
    "    fig.tight_layout(pad=0, h_pad=0, w_pad=0)\n",
    "    plt.axis('off')\n",
    "#     fig.savefig(\n",
    "#         os.path.join(\n",
    "#             'plots',\n",
    "#             'heatmap_{0}_{1}.eps'.format(\n",
    "#                 scenarioName,\n",
    "#                 navAlg,\n",
    "#             ),\n",
    "#         ),\n",
    "#         bbox_inches='tight',\n",
    "#     )\n",
    "    plt.show()\n",
    "    \n",
    "    # remember what I have plotted\n",
    "    plotsgenerated += [(scenarioName,navAlg)]\n",
    "\n",
    "for ((scenarioName,navAlg),num) in maxNumRobots.items():\n",
    "    print('\\\\newcommand{{\\\\heatmapMaxNumRobots{}{}}}         {{{}\\\\xspace}}'.format(scenarioName,navAlg,num))\n"
   ]
  },
  {
   "cell_type": "code",
   "execution_count": 59,
   "metadata": {},
   "outputs": [
    {
     "data": {
      "text/plain": [
       "<matplotlib.axes._subplots.AxesSubplot at 0x1d13cc70>"
      ]
     },
     "execution_count": 59,
     "metadata": {},
     "output_type": "execute_result"
    },
    {
     "data": {
      "image/png": "[encoded data removed]",
      "text/plain": [
       "<Figure size 432x288 with 2 Axes>"
      ]
     },
     "metadata": {
      "needs_background": "light"
     },
     "output_type": "display_data"
    }
   ],
   "source": [
    "\n",
    "\n",
    "array_2d = run['heatmap']\n",
    "sns.heatmap(array_2d)\n"
   ]
  }
 ],
 "metadata": {
  "kernelspec": {
   "display_name": "Python 3",
   "language": "python",
   "name": "python3"
  },
  "language_info": {
   "codemirror_mode": {
    "name": "ipython",
    "version": 3
   },
   "file_extension": ".py",
   "mimetype": "text/x-python",
   "name": "python",
   "nbconvert_exporter": "python",
   "pygments_lexer": "ipython3",
   "version": "3.8.2"
  }
 },
 "nbformat": 4,
 "nbformat_minor": 4
}
