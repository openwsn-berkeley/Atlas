{
 "cells": [
  {
   "cell_type": "code",
   "execution_count": 127,
   "metadata": {},
   "outputs": [
    {
     "name": "stdout",
     "output_type": "stream",
     "text": [
      "['Atlas_kpi_Log_210310112518.json']\n"
     ]
    }
   ],
   "source": [
    "import seaborn as sns # for data visualization\n",
    "import os\n",
    "import pprint\n",
    "import random\n",
    "import statistics\n",
    "import scipy.stats\n",
    "import numpy as np\n",
    "import matplotlib\n",
    "import matplotlib.pyplot as plt\n",
    "import json\n",
    "import glob\n",
    "%matplotlib inline\n",
    "\n",
    "pp       =  pprint.PrettyPrinter(compact=True)\n",
    "\n",
    "LOGFILES =  glob.glob('Atlas_kpi_Log_*.json')\n",
    "\n",
    "print(LOGFILES)\n",
    "\n",
    "#=== line colors and styles\n",
    "\n",
    "linestyles = {\n",
    "    # scenarios\n",
    "    'empty':        'dotted',\n",
    "    'canonical':    'dashed',\n",
    "    'floorplan':    'solid',\n",
    "    'Atlas':        'solid',\n",
    "}\n",
    "\n",
    "linecolors = {\n",
    "    # scenarios\n",
    "    'empty':        '#262626',\n",
    "    'canonical':    '#666666',\n",
    "    'floorplan':    '#ff0000',\n",
    "    'Atlas':        '#0000ff',\n",
    "}\n",
    "\n",
    "#=== helper functions\n",
    "\n",
    "def mean_confidence_interval(data, confidence=0.95):\n",
    "    a = 1.0 * np.array(data)\n",
    "    n = len(a)\n",
    "    m, se = np.mean(a), scipy.stats.sem(a)\n",
    "    h = se * scipy.stats.t.ppf((1 + confidence) / 2., n-1)\n",
    "    return (m, h)"
   ]
  },
  {
   "cell_type": "code",
   "execution_count": 128,
   "metadata": {},
   "outputs": [
    {
     "name": "stdout",
     "output_type": "stream",
     "text": [
      "runNums: 20 TotalRuns: 20\n"
     ]
    }
   ],
   "source": [
    "\n",
    "#=== gather data\n",
    "\n",
    "log = []\n",
    "for logfile in LOGFILES:\n",
    "    with open(logfile,'r') as f:\n",
    "        for line in f:\n",
    "            log += [json.loads(line)]\n",
    "            \n",
    "lastRunNum = None\n",
    "runNums    = 0\n",
    "for run in log:\n",
    "    if run['runNums']!= lastRunNum:\n",
    "        runNums      += 1\n",
    "        lastRunNum    = run['runNums']\n",
    "            \n",
    "print('runNums: {} TotalRuns: {}'.format(runNums,len(log)))"
   ]
  },
  {
   "cell_type": "code",
   "execution_count": 129,
   "metadata": {},
   "outputs": [
    {
     "name": "stdout",
     "output_type": "stream",
     "text": [
      "empty Atlas 62\n"
     ]
    },
    {
     "data": {
      "image/png": "[encoded data removed]",
      "text/plain": [
       "<Figure size 432x288 with 1 Axes>"
      ]
     },
     "metadata": {
      "needs_background": "light"
     },
     "output_type": "display_data"
    },
    {
     "ename": "TypeError",
     "evalue": "float() argument must be a string or a number, not 'list'",
     "output_type": "error",
     "traceback": [
      "\u001b[1;31m---------------------------------------------------------------------------\u001b[0m",
      "\u001b[1;31mAttributeError\u001b[0m                            Traceback (most recent call last)",
      "\u001b[1;32mc:\\users\\abuaishe\\appdata\\local\\programs\\python\\python38-32\\lib\\site-packages\\matplotlib\\colors.py\u001b[0m in \u001b[0;36m_sanitize_extrema\u001b[1;34m(ex)\u001b[0m\n\u001b[0;32m    116\u001b[0m     \u001b[1;32mtry\u001b[0m\u001b[1;33m:\u001b[0m\u001b[1;33m\u001b[0m\u001b[1;33m\u001b[0m\u001b[0m\n\u001b[1;32m--> 117\u001b[1;33m         \u001b[0mret\u001b[0m \u001b[1;33m=\u001b[0m \u001b[0mex\u001b[0m\u001b[1;33m.\u001b[0m\u001b[0mitem\u001b[0m\u001b[1;33m(\u001b[0m\u001b[1;33m)\u001b[0m\u001b[1;33m\u001b[0m\u001b[1;33m\u001b[0m\u001b[0m\n\u001b[0m\u001b[0;32m    118\u001b[0m     \u001b[1;32mexcept\u001b[0m \u001b[0mAttributeError\u001b[0m\u001b[1;33m:\u001b[0m\u001b[1;33m\u001b[0m\u001b[1;33m\u001b[0m\u001b[0m\n",
      "\u001b[1;31mAttributeError\u001b[0m: 'list' object has no attribute 'item'",
      "\nDuring handling of the above exception, another exception occurred:\n",
      "\u001b[1;31mTypeError\u001b[0m                                 Traceback (most recent call last)",
      "\u001b[1;32m<ipython-input-129-71ab90673ef5>\u001b[0m in \u001b[0;36m<module>\u001b[1;34m\u001b[0m\n\u001b[0;32m     36\u001b[0m     \u001b[0mmaxNumRobots\u001b[0m\u001b[1;33m[\u001b[0m\u001b[1;33m(\u001b[0m\u001b[0mscenarioName\u001b[0m\u001b[1;33m,\u001b[0m\u001b[0mnavAlg\u001b[0m\u001b[1;33m)\u001b[0m\u001b[1;33m]\u001b[0m \u001b[1;33m=\u001b[0m \u001b[0mvmax\u001b[0m\u001b[1;33m\u001b[0m\u001b[1;33m\u001b[0m\u001b[0m\n\u001b[0;32m     37\u001b[0m     \u001b[0mcmap\u001b[0m         \u001b[1;33m=\u001b[0m \u001b[0mplt\u001b[0m\u001b[1;33m.\u001b[0m\u001b[0mcm\u001b[0m\u001b[1;33m.\u001b[0m\u001b[0mGreys\u001b[0m\u001b[1;33m\u001b[0m\u001b[1;33m\u001b[0m\u001b[0m\n\u001b[1;32m---> 38\u001b[1;33m     \u001b[0mnorm\u001b[0m         \u001b[1;33m=\u001b[0m \u001b[0mplt\u001b[0m\u001b[1;33m.\u001b[0m\u001b[0mNormalize\u001b[0m\u001b[1;33m(\u001b[0m\u001b[1;36m0\u001b[0m\u001b[1;33m,\u001b[0m \u001b[0mvmax\u001b[0m\u001b[1;33m)\u001b[0m\u001b[1;33m\u001b[0m\u001b[1;33m\u001b[0m\u001b[0m\n\u001b[0m\u001b[0;32m     39\u001b[0m     \u001b[0mrgba\u001b[0m         \u001b[1;33m=\u001b[0m \u001b[0mcmap\u001b[0m\u001b[1;33m(\u001b[0m\u001b[0mnorm\u001b[0m\u001b[1;33m(\u001b[0m\u001b[0mdata\u001b[0m\u001b[1;33m)\u001b[0m\u001b[1;33m)\u001b[0m\u001b[1;33m\u001b[0m\u001b[1;33m\u001b[0m\u001b[0m\n\u001b[0;32m     40\u001b[0m \u001b[1;33m\u001b[0m\u001b[0m\n",
      "\u001b[1;32mc:\\users\\abuaishe\\appdata\\local\\programs\\python\\python38-32\\lib\\site-packages\\matplotlib\\colors.py\u001b[0m in \u001b[0;36m__init__\u001b[1;34m(self, vmin, vmax, clip)\u001b[0m\n\u001b[0;32m    961\u001b[0m         \"\"\"\n\u001b[0;32m    962\u001b[0m         \u001b[0mself\u001b[0m\u001b[1;33m.\u001b[0m\u001b[0mvmin\u001b[0m \u001b[1;33m=\u001b[0m \u001b[0m_sanitize_extrema\u001b[0m\u001b[1;33m(\u001b[0m\u001b[0mvmin\u001b[0m\u001b[1;33m)\u001b[0m\u001b[1;33m\u001b[0m\u001b[1;33m\u001b[0m\u001b[0m\n\u001b[1;32m--> 963\u001b[1;33m         \u001b[0mself\u001b[0m\u001b[1;33m.\u001b[0m\u001b[0mvmax\u001b[0m \u001b[1;33m=\u001b[0m \u001b[0m_sanitize_extrema\u001b[0m\u001b[1;33m(\u001b[0m\u001b[0mvmax\u001b[0m\u001b[1;33m)\u001b[0m\u001b[1;33m\u001b[0m\u001b[1;33m\u001b[0m\u001b[0m\n\u001b[0m\u001b[0;32m    964\u001b[0m         \u001b[0mself\u001b[0m\u001b[1;33m.\u001b[0m\u001b[0mclip\u001b[0m \u001b[1;33m=\u001b[0m \u001b[0mclip\u001b[0m\u001b[1;33m\u001b[0m\u001b[1;33m\u001b[0m\u001b[0m\n\u001b[0;32m    965\u001b[0m \u001b[1;33m\u001b[0m\u001b[0m\n",
      "\u001b[1;32mc:\\users\\abuaishe\\appdata\\local\\programs\\python\\python38-32\\lib\\site-packages\\matplotlib\\colors.py\u001b[0m in \u001b[0;36m_sanitize_extrema\u001b[1;34m(ex)\u001b[0m\n\u001b[0;32m    117\u001b[0m         \u001b[0mret\u001b[0m \u001b[1;33m=\u001b[0m \u001b[0mex\u001b[0m\u001b[1;33m.\u001b[0m\u001b[0mitem\u001b[0m\u001b[1;33m(\u001b[0m\u001b[1;33m)\u001b[0m\u001b[1;33m\u001b[0m\u001b[1;33m\u001b[0m\u001b[0m\n\u001b[0;32m    118\u001b[0m     \u001b[1;32mexcept\u001b[0m \u001b[0mAttributeError\u001b[0m\u001b[1;33m:\u001b[0m\u001b[1;33m\u001b[0m\u001b[1;33m\u001b[0m\u001b[0m\n\u001b[1;32m--> 119\u001b[1;33m         \u001b[0mret\u001b[0m \u001b[1;33m=\u001b[0m \u001b[0mfloat\u001b[0m\u001b[1;33m(\u001b[0m\u001b[0mex\u001b[0m\u001b[1;33m)\u001b[0m\u001b[1;33m\u001b[0m\u001b[1;33m\u001b[0m\u001b[0m\n\u001b[0m\u001b[0;32m    120\u001b[0m     \u001b[1;32mreturn\u001b[0m \u001b[0mret\u001b[0m\u001b[1;33m\u001b[0m\u001b[1;33m\u001b[0m\u001b[0m\n\u001b[0;32m    121\u001b[0m \u001b[1;33m\u001b[0m\u001b[0m\n",
      "\u001b[1;31mTypeError\u001b[0m: float() argument must be a string or a number, not 'list'"
     ]
    }
   ],
   "source": [
    "'''\n",
    "###############################################################################\n",
    "Heatmap\n",
    "###############################################################################\n",
    "'''\n",
    "\n",
    "#=== create plot\n",
    "\n",
    "maxNumRobots = {}\n",
    "\n",
    "plotsgenerated = []\n",
    "for run in log:\n",
    "\n",
    "    # shorthands\n",
    "    if run['floorplanType'] == 0:\n",
    "        scenarioName = 'empty'\n",
    "    elif run['floorplanType'] == 1:\n",
    "        scenarioName = 'canonical'\n",
    "    elif run['floorplanType'] == 2:\n",
    "        scenarioName = 'floorplan'\n",
    "      \n",
    "    navAlg = run['navAlgorithm']\n",
    "    \n",
    "    # don't plot same data twice\n",
    "    if (\n",
    "        ((scenarioName,navAlg) in plotsgenerated) or\n",
    "        ('heatmap' not in run)\n",
    "    ):\n",
    "        continue\n",
    "    \n",
    "    # color cells visited\n",
    "    data         = np.array(run['heatmap'])\n",
    "    flat         = data.flatten()\n",
    "    flat.sort()\n",
    "    vmax         = flat[-2] # avoid counting num robots on start position\n",
    "    maxNumRobots[(scenarioName,navAlg)] = vmax\n",
    "    cmap         = plt.cm.Greys\n",
    "    norm         = plt.Normalize(0, vmax)\n",
    "    rgba         = cmap(norm(data))\n",
    "    \n",
    "    print(scenarioName,navAlg,vmax)\n",
    "    \n",
    "    # color real map\n",
    "    realMap      = run['floorplanDrawing']\n",
    "    x = 0\n",
    "    for line in realMap.splitlines():\n",
    "        if not line.startswith('#'):\n",
    "            continue\n",
    "        for (y,c) in enumerate(line):\n",
    "            if   c=='#':\n",
    "                rgba[x, y, :3] = ( 0/255,  51/255, 204/255)\n",
    "        x += 1\n",
    "    \n",
    "    (fig,ax) = plt.subplots()\n",
    "    im       = ax.imshow(rgba, interpolation='nearest')\n",
    "\n",
    "    fig.tight_layout(pad=0, h_pad=0, w_pad=0)\n",
    "    plt.axis('off')\n",
    "#     fig.savefig(\n",
    "#         os.path.join(\n",
    "#             'plots',\n",
    "#             'heatmap_{0}_{1}.eps'.format(\n",
    "#                 scenarioName,\n",
    "#                 navAlg,\n",
    "#             ),\n",
    "#         ),\n",
    "#         bbox_inches='tight',\n",
    "#     )\n",
    "    plt.show()\n",
    "    \n",
    "    # remember what I have plotted\n",
    "    plotsgenerated += [(scenarioName,navAlg)]\n",
    "\n",
    "for ((scenarioName,navAlg),num) in maxNumRobots.items():\n",
    "    print('\\\\newcommand{{\\\\heatmapMaxNumRobots{}{}}}         {{{}\\\\xspace}}'.format(scenarioName,navAlg,num))\n"
   ]
  },
  {
   "cell_type": "code",
   "execution_count": 141,
   "metadata": {},
   "outputs": [
    {
     "name": "stderr",
     "output_type": "stream",
     "text": [
      "The PostScript backend does not support transparency; partially transparent artists will be rendered opaque.\n",
      "The PostScript backend does not support transparency; partially transparent artists will be rendered opaque.\n"
     ]
    },
    {
     "name": "stdout",
     "output_type": "stream",
     "text": [
      "[2, 2, 2, 2, 2, 2, 2, 2, 2, 2]\n",
      "min2 [1.2166666666666668, 1.4, 1.5666666666666667, 1.9333333333333333, 2.35, 2.75, 3.7333333333333334, 5.15, 7.800000000000001, 16.383333333333333]\n"
     ]
    },
    {
     "data": {
      "image/png": "[encoded data removed]",
      "text/plain": [
       "<Figure size 432x288 with 1 Axes>"
      ]
     },
     "metadata": {
      "needs_background": "light"
     },
     "output_type": "display_data"
    }
   ],
   "source": [
    "'''\n",
    "##############################################################################################################\n",
    "Mapping speed vs PDR for 100 robots \n",
    "##############################################################################################################\n",
    "'''\n",
    "data_pdr1  = []\n",
    "data_pdr09 = []\n",
    "data_pdr08 = []\n",
    "data_pdr07 = []\n",
    "data_pdr06 = []\n",
    "data_pdr05 = []\n",
    "data_pdr04 = []\n",
    "data_pdr03 = []\n",
    "data_pdr02 = []\n",
    "data_pdr01 = []\n",
    "\n",
    "for run in log:\n",
    "    if run['pdr'] == 1:\n",
    "        data_pdr1 += [run['timeToFullMapping' ]/30]\n",
    "    if run['pdr'] == 0.9: \n",
    "        data_pdr09 += [run['timeToFullMapping']/30]\n",
    "    if run['pdr'] == 0.8: \n",
    "        data_pdr08 += [run['timeToFullMapping']/30]\n",
    "    if run['pdr'] == 0.7: \n",
    "        data_pdr07 += [run['timeToFullMapping']/30]\n",
    "    if run['pdr'] == 0.6: \n",
    "        data_pdr06 += [run['timeToFullMapping']/30]\n",
    "    if run['pdr'] == 0.5: \n",
    "        data_pdr05 += [run['timeToFullMapping']/30]\n",
    "    if run['pdr'] == 0.4: \n",
    "        data_pdr04 += [run['timeToFullMapping']/30]\n",
    "    if run['pdr'] == 0.3: \n",
    "        data_pdr03 += [run['timeToFullMapping']/30]\n",
    "    if run['pdr'] == 0.2: \n",
    "        data_pdr02 += [run['timeToFullMapping']/30]\n",
    "    if run['pdr'] == 0.1: \n",
    "        data_pdr01 += [run['timeToFullMapping']/30]\n",
    "    \n",
    "(m1,h1)  =mean_confidence_interval(data_pdr1)\n",
    "(m09,h09)=mean_confidence_interval(data_pdr09)\n",
    "(m08,h08)=mean_confidence_interval(data_pdr08)\n",
    "(m07,h07)=mean_confidence_interval(data_pdr07)\n",
    "(m06,h06)=mean_confidence_interval(data_pdr06)\n",
    "(m05,h05)=mean_confidence_interval(data_pdr05)\n",
    "(m04,h04)=mean_confidence_interval(data_pdr04)\n",
    "(m03,h03)=mean_confidence_interval(data_pdr03)\n",
    "(m02,h02)=mean_confidence_interval(data_pdr02)\n",
    "(m01,h01)=mean_confidence_interval(data_pdr01)  \n",
    "datas = [data_pdr1,\n",
    "data_pdr09,\n",
    "data_pdr08,\n",
    "data_pdr07,\n",
    "data_pdr06,\n",
    "data_pdr05,\n",
    "data_pdr04,\n",
    "data_pdr03,\n",
    "data_pdr02,\n",
    "data_pdr01]\n",
    "num_points = [len(data) for data in datas ]\n",
    "print(num_points)\n",
    "y = [m1,m09,m08,m07,m06,m05,m04,m03,m02,m01]\n",
    "print('min2',y)\n",
    "x = [1,0.9,0.8,0.7,0.6,0.5,0.4,0.3,0.2,0.1]\n",
    "yerr= [h1,h09,h08,h07,h06,h05,h04,h03,h02,h01]\n",
    "\n",
    "#=== create plot\n",
    "(fig,ax) = plt.subplots()\n",
    "ax.errorbar(x, y, yerr=yerr,color='green', label = \"100 robots\", marker='o')\n",
    "ax.grid(True, zorder=100)\n",
    "plt.legend(loc='upper right', fontsize=10, bbox_to_anchor= (1.00, 1.00))\n",
    "plt.yscale('log')\n",
    "#plt.title(\"PDR vs. Mapping Time-to-Completion\")\n",
    "plt.xlabel(\"Packet Delivery Ratio (PDR)\")\n",
    "plt.ylabel(\"Mapping Time-to-Completion (min)\")\n",
    "plt.savefig('PDR_vs_time_all_2.eps')\n"
   ]
  }
 ],
 "metadata": {
  "kernelspec": {
   "display_name": "Python 3",
   "language": "python",
   "name": "python3"
  },
  "language_info": {
   "codemirror_mode": {
    "name": "ipython",
    "version": 3
   },
   "file_extension": ".py",
   "mimetype": "text/x-python",
   "name": "python",
   "nbconvert_exporter": "python",
   "pygments_lexer": "ipython3",
   "version": "3.8.2"
  }
 },
 "nbformat": 4,
 "nbformat_minor": 4
}
